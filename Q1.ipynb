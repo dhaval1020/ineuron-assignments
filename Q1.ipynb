{
 "cells": [
  {
   "cell_type": "code",
   "execution_count": 28,
   "metadata": {},
   "outputs": [],
   "source": [
    "def calc(string):\n",
    "    l1 = string.split(' ')\n",
    "    word_count = {x : l1.count(x) for x in l1}\n",
    "\n",
    "    l2 = []\n",
    "    for key,val in word_count.items():\n",
    "        if val == max(word_count.values()):\n",
    "            l2.append(key)\n",
    "\n",
    "    max_len_word = {x : len(x) for x in l2}\n",
    "\n",
    "    for key, val in max_len_word.items():\n",
    "        if val == max(max_len_word.values()):\n",
    "            print(\"Most Repeated word is: \",key)\n",
    "            print(\"lenth of the word is: \",len(key))\n",
    "\n"
   ]
  },
  {
   "cell_type": "code",
   "execution_count": 29,
   "metadata": {},
   "outputs": [
    {
     "name": "stdout",
     "output_type": "stream",
     "text": [
      "Most Repeated word is:  write\n",
      "lenth of the word is:  5\n"
     ]
    }
   ],
   "source": [
    "calc('write write write write abc def def ghi')\n"
   ]
  },
  {
   "cell_type": "code",
   "execution_count": 30,
   "metadata": {},
   "outputs": [
    {
     "name": "stdout",
     "output_type": "stream",
     "text": [
      "Most Repeated word is:  Dhaval\n",
      "lenth of the word is:  6\n"
     ]
    }
   ],
   "source": [
    "calc('This is Dhaval Dhaval Dhaval from from Ahmedabad Ahmedabad')"
   ]
  }
 ],
 "metadata": {
  "kernelspec": {
   "display_name": "base",
   "language": "python",
   "name": "python3"
  },
  "language_info": {
   "codemirror_mode": {
    "name": "ipython",
    "version": 3
   },
   "file_extension": ".py",
   "mimetype": "text/x-python",
   "name": "python",
   "nbconvert_exporter": "python",
   "pygments_lexer": "ipython3",
   "version": "3.11.4"
  },
  "orig_nbformat": 4
 },
 "nbformat": 4,
 "nbformat_minor": 2
}
